{
 "cells": [
  {
   "cell_type": "markdown",
   "metadata": {},
   "source": [
    "$\\textbf{2.1 Version control with Git}$\n",
    "\n",
    "(a) Overall, Git is useful for managerial purposeses; it is an additional tool, or a toolbelt full of convenient tools. One reason that Git is helpful is that it enables me to recover changes I've made to a code, so that if I've become overambitious. It also allows me to monitor the changes that I've made to the code. Another reason that Git is useful is that it allows for collaboration.\n",
    "\n",
    "(b) The \"init\" stands for initiate, or initialize. So $\\textbf{git init}$ will create a directory. Whereas $\\textbf{git clone}$ will clone an already existing directory.\n",
    "\n",
    "(c) $\\textbf{git add}$ is an intermediate step, and does not actually change anything officially, it says that you want to add something new to a repository or directory. $\\textbf{git commit}$ is the final step in perhaps adding multiple things; it allows you to make many changes at once, and actualizes the previous commands such as git add.\n",
    "\n",
    "(d) $\\textbf{git commit}$ will make changes to a local repository. $\\textbf{git push}$ is similar, but it allows you to make changes to a remote repository.\n",
    "\n",
    "$\\textbf{2.2 Your Github account}$\n",
    "\n",
    "My GitHub username is: CalebMadsen\n",
    "\n",
    "$\\textbf{2.3 Simple coordinate manipulation in Python}$\n"
   ]
  },
  {
   "cell_type": "code",
   "execution_count": 2,
   "metadata": {
    "collapsed": true
   },
   "outputs": [],
   "source": [
    "positions = \\\n",
    "[[0.0, 0.0, 0.0] , [1.34234, 1.34234, 0.0], \\\n",
    " [1.34234, 0.0, 1.34234], [0.0, 1.34234, 1.34234]]"
   ]
  },
  {
   "cell_type": "markdown",
   "metadata": {},
   "source": [
    "(a)"
   ]
  },
  {
   "cell_type": "code",
   "execution_count": 3,
   "metadata": {
    "collapsed": false
   },
   "outputs": [
    {
     "data": {
      "text/plain": [
       "[1.34234, 1.34234, 0.0]"
      ]
     },
     "execution_count": 3,
     "metadata": {},
     "output_type": "execute_result"
    }
   ],
   "source": [
    "positions[1]"
   ]
  },
  {
   "cell_type": "code",
   "execution_count": 4,
   "metadata": {
    "collapsed": false
   },
   "outputs": [
    {
     "data": {
      "text/plain": [
       "1.34234"
      ]
     },
     "execution_count": 4,
     "metadata": {},
     "output_type": "execute_result"
    }
   ],
   "source": [
    "positions[1][1]"
   ]
  },
  {
   "cell_type": "code",
   "execution_count": 5,
   "metadata": {
    "collapsed": true
   },
   "outputs": [],
   "source": [
    "t = [1.34234, - 1.34234, -1.3234]"
   ]
  },
  {
   "cell_type": "code",
   "execution_count": 6,
   "metadata": {
    "collapsed": false
   },
   "outputs": [
    {
     "name": "stdout",
     "output_type": "stream",
     "text": [
      "[0.0, 0.0, 0.0]\n",
      "[1.34234, 1.34234, 0.0]\n",
      "[1.34234, 0.0, 1.34234]\n",
      "[0.0, 1.34234, 1.34234]\n"
     ]
    }
   ],
   "source": [
    "for i in range(4):\n",
    "    print(positions[:][i])"
   ]
  },
  {
   "cell_type": "markdown",
   "metadata": {},
   "source": [
    "$\\textbf{2.4 NumPy array}$\n",
    "\n",
    "(a) Numpy array operations are similar in that they are carried out elementwise. The difference seems to be how we usually deal with vectors, since these can be row matrices or column matrices. For instance, the multiplication of two vectors generally returns a scalar, but with numpy the multiplication of two vectors just multiplies each corresponding element and the result is another vector. \n",
    "\n",
    "(b)"
   ]
  },
  {
   "cell_type": "code",
   "execution_count": 113,
   "metadata": {
    "collapsed": false
   },
   "outputs": [],
   "source": [
    "import numpy as np\n",
    "\n",
    "sx = np.array([[0,1], [1,0]])\n",
    "sy = np.array([[0, -1j],[1j,0]])\n",
    "sz = np.array([[1,0],[0,-1]])"
   ]
  },
  {
   "cell_type": "code",
   "execution_count": 114,
   "metadata": {
    "collapsed": false
   },
   "outputs": [
    {
     "data": {
      "text/plain": [
       "array([[ 0.+0.j,  0.+0.j],\n",
       "       [ 0.+0.j, -0.+0.j]])"
      ]
     },
     "execution_count": 114,
     "metadata": {},
     "output_type": "execute_result"
    }
   ],
   "source": [
    "sx * sy * sz"
   ]
  },
  {
   "cell_type": "markdown",
   "metadata": {},
   "source": [
    "$\\text{(i)}$ It appears to have multiplied each element, and outputed an array of the products of those elements. I think that $\\text{0.j}$ is a way to show that j has a coefficient of 0, and the number added to j is the real part of a complex number whose imaginary part is j. So, $\\text{0.+1.j}$ should be the same thing as $\\text{j}$. The negative zero doesn't make sense though. It might make sense that the zero can enherit a negative sign, by multipilication with a negative element, but to be consistent with that logic, the top right element should also have taken on a negative. To visualize, this is what it appears to do:\n",
    "\n",
    "\n",
    "$\\begin{equation}\n",
    "\\begin{bmatrix}\n",
    "    0 & 1 \\\\\n",
    "    1 & 0\n",
    "\\end{bmatrix}\n",
    "\\begin{bmatrix}\n",
    "    0 & -i \\\\\n",
    "    i & 0\n",
    "\\end{bmatrix}\n",
    "=\n",
    "\\begin{bmatrix} \n",
    "    0 & -i \\\\\n",
    "    i & 0\n",
    "\\end{bmatrix}\n",
    "\\end{equation}$\n",
    "\n",
    "Where the matrix on the right has elements who are the products of the like-elemetns of the previous matrices. And so multiplying this matrix by the last gives:\n",
    "$\\begin{equation}\n",
    "\\begin{bmatrix}\n",
    "    0 & -i \\\\\n",
    "    i & 0\n",
    "\\end{bmatrix}\n",
    "\\begin{bmatrix}\n",
    "    1 & 0 \\\\\n",
    "    0 & -1\n",
    "\\end{bmatrix}\n",
    "=\n",
    "\\begin{bmatrix}\n",
    "    0 & 0 \\\\\n",
    "    0 & 0\n",
    "\\end{bmatrix}\n",
    "\\end{equation}$\n",
    "\n",
    "But if we allowed the 0s to take on a negative sign, I both of the 0s on the right should have a negative, whereas only one does. "
   ]
  },
  {
   "cell_type": "code",
   "execution_count": 115,
   "metadata": {
    "collapsed": false
   },
   "outputs": [
    {
     "data": {
      "text/plain": [
       "array([[ 0.+1.j,  0.+0.j],\n",
       "       [ 0.+0.j,  0.+1.j]])"
      ]
     },
     "execution_count": 115,
     "metadata": {},
     "output_type": "execute_result"
    }
   ],
   "source": [
    "np.dot(sx, np.dot(sy, sz))"
   ]
  },
  {
   "cell_type": "markdown",
   "metadata": {},
   "source": [
    "$\\text{(ii)}$ This did matrix multiplication in the usual way, where the product of $\\sigma_{y}$ and $\\sigma_{z}$ is taken first, and then the product of $\\sigma_{x}$ and $(\\sigma_{y}\\cdot\\sigma_{z})$ is taken.\n",
    "\n",
    "$\\text{(iii)}$"
   ]
  },
  {
   "cell_type": "code",
   "execution_count": 116,
   "metadata": {
    "collapsed": false
   },
   "outputs": [
    {
     "data": {
      "text/plain": [
       "array([[ 0.+2.j,  0.+0.j],\n",
       "       [ 0.+0.j,  0.-2.j]])"
      ]
     },
     "execution_count": 116,
     "metadata": {},
     "output_type": "execute_result"
    }
   ],
   "source": [
    "np.dot(sx,sy)[:][:]- np.dot(sy,sx)[:][:]"
   ]
  },
  {
   "cell_type": "code",
   "execution_count": 117,
   "metadata": {
    "collapsed": false
   },
   "outputs": [
    {
     "data": {
      "text/plain": [
       "array([[ True,  True],\n",
       "       [ True,  True]], dtype=bool)"
      ]
     },
     "execution_count": 117,
     "metadata": {},
     "output_type": "execute_result"
    }
   ],
   "source": [
    "np.dot(sx,sy)[:][:]- np.dot(sy,sx)[:][:] == 2j*sz"
   ]
  },
  {
   "cell_type": "markdown",
   "metadata": {},
   "source": [
    "$\\text{(iv)}$"
   ]
  },
  {
   "cell_type": "code",
   "execution_count": 118,
   "metadata": {
    "collapsed": true
   },
   "outputs": [],
   "source": [
    "v = 1/np.sqrt(2) * np.array([1,-1j])"
   ]
  },
  {
   "cell_type": "code",
   "execution_count": 119,
   "metadata": {
    "collapsed": false
   },
   "outputs": [
    {
     "data": {
      "text/plain": [
       "(-0.99999999999999978+0j)"
      ]
     },
     "execution_count": 119,
     "metadata": {},
     "output_type": "execute_result"
    }
   ],
   "source": [
    "np.dot(np.matrix.getH(v) , np.dot(sy, v)) "
   ]
  },
  {
   "cell_type": "markdown",
   "metadata": {},
   "source": [
    "$\\textbf{2.5 Coordinate manipulation with Numpy}$"
   ]
  },
  {
   "cell_type": "code",
   "execution_count": 3,
   "metadata": {
    "collapsed": false
   },
   "outputs": [],
   "source": [
    "import numpy as np\n",
    "\n",
    "positions = np.array(\\\n",
    "[[0.0, 0.0, 0.0] , [1.34234, 1.34234, 0.0], \\\n",
    " [1.34234, 0.0, 1.34234], [0.0, 1.34234, 1.34234]])\n",
    "\n",
    "t = np.array([1.3234, -1.3234, -1.3234])"
   ]
  },
  {
   "cell_type": "markdown",
   "metadata": {},
   "source": [
    "$\\text{(a)}$"
   ]
  },
  {
   "cell_type": "code",
   "execution_count": 14,
   "metadata": {
    "collapsed": false
   },
   "outputs": [
    {
     "data": {
      "text/plain": [
       "(4, 3)"
      ]
     },
     "execution_count": 14,
     "metadata": {},
     "output_type": "execute_result"
    }
   ],
   "source": [
    "positions.shape"
   ]
  },
  {
   "cell_type": "code",
   "execution_count": 13,
   "metadata": {
    "collapsed": false
   },
   "outputs": [
    {
     "data": {
      "text/plain": [
       "4"
      ]
     },
     "execution_count": 13,
     "metadata": {},
     "output_type": "execute_result"
    }
   ],
   "source": [
    "len(positions)"
   ]
  },
  {
   "cell_type": "markdown",
   "metadata": {},
   "source": [
    "$\\text{(b)}$"
   ]
  },
  {
   "cell_type": "code",
   "execution_count": 15,
   "metadata": {
    "collapsed": false
   },
   "outputs": [
    {
     "data": {
      "text/plain": [
       "3"
      ]
     },
     "execution_count": 15,
     "metadata": {},
     "output_type": "execute_result"
    }
   ],
   "source": [
    "t.shape\n",
    "len(t)"
   ]
  },
  {
   "cell_type": "code",
   "execution_count": null,
   "metadata": {
    "collapsed": true
   },
   "outputs": [],
   "source": []
  }
 ],
 "metadata": {
  "anaconda-cloud": {},
  "kernelspec": {
   "display_name": "Python [default]",
   "language": "python",
   "name": "python3"
  },
  "language_info": {
   "codemirror_mode": {
    "name": "ipython",
    "version": 3
   },
   "file_extension": ".py",
   "mimetype": "text/x-python",
   "name": "python",
   "nbconvert_exporter": "python",
   "pygments_lexer": "ipython3",
   "version": "3.5.2"
  }
 },
 "nbformat": 4,
 "nbformat_minor": 1
}
